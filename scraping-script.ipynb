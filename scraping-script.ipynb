{
 "cells": [
  {
   "cell_type": "code",
   "execution_count": 67,
   "metadata": {},
   "outputs": [],
   "source": [
    "from bs4 import BeautifulSoup\n",
    "import requests\n",
    "\n",
    "from markdownify import markdownify as md\n",
    "from markdownify import MarkdownConverter"
   ]
  },
  {
   "cell_type": "code",
   "execution_count": 46,
   "metadata": {},
   "outputs": [],
   "source": [
    "page = requests.get('https://www.cpc.ncep.noaa.gov/products/wesley/wgrib2/lon.html')"
   ]
  },
  {
   "cell_type": "code",
   "execution_count": 47,
   "metadata": {},
   "outputs": [],
   "source": [
    "soup = BeautifulSoup(page.text, \"html.parser\")"
   ]
  },
  {
   "cell_type": "code",
   "execution_count": 48,
   "metadata": {},
   "outputs": [],
   "source": [
    "a = soup.findAll('table')"
   ]
  },
  {
   "cell_type": "code",
   "execution_count": 66,
   "metadata": {},
   "outputs": [],
   "source": [
    "def my_md(soup, **options):\n",
    "    return MarkdownConverter(**options).convert_soup(soup)"
   ]
  },
  {
   "cell_type": "code",
   "execution_count": 80,
   "metadata": {},
   "outputs": [],
   "source": [
    "with open(\"test.md\", \"w\") as f:\n",
    "    f.write(\n",
    "        my_md(\n",
    "            a[5].findAll(\"tr\")[3].findAll(\"td\")[0],\n",
    "            #heading_style=\"ATX\",\n",
    "        ),\n",
    "    )"
   ]
  },
  {
   "cell_type": "code",
   "execution_count": 71,
   "metadata": {},
   "outputs": [
    {
     "data": {
      "text/plain": [
       "<h3 align=\"center\">wgrib2: -lon</h3>"
      ]
     },
     "execution_count": 71,
     "metadata": {},
     "output_type": "execute_result"
    }
   ],
   "source": [
    "b = a[5].findAll(\"tr\")[3].findAll(\"td\")[0].findAll(\"h3\")[0]\n",
    "b"
   ]
  },
  {
   "cell_type": "code",
   "execution_count": 54,
   "metadata": {},
   "outputs": [
    {
     "name": "stdout",
     "output_type": "stream",
     "text": [
      "### wgrib2: -lon\n",
      "\n",
      "\n"
     ]
    }
   ],
   "source": [
    "print(md('''<h3 align=\"center\">wgrib2: -lon</h3>''', heading_style=\"ATX\"))"
   ]
  },
  {
   "cell_type": "code",
   "execution_count": 73,
   "metadata": {},
   "outputs": [
    {
     "data": {
      "text/plain": [
       "'### wgrib2: -lon\\n\\n'"
      ]
     },
     "execution_count": 73,
     "metadata": {},
     "output_type": "execute_result"
    }
   ],
   "source": [
    "md(str(b))"
   ]
  },
  {
   "cell_type": "code",
   "execution_count": 78,
   "metadata": {},
   "outputs": [
    {
     "data": {
      "text/plain": [
       "<td><font color=\"red\">\n",
       "<h3 align=\"center\">wgrib2: -lon</h3>\n",
       "</font>\n",
       "<h3>Introduction</h3>\n",
       "<p>\n",
       "The <font color=\"red\">-lon</font> option prints the value of the grid point\n",
       "closest to the specified longitude latitude. The latitude-longitude of the grid\n",
       "point are also printed.  If you use the verbose mode, the grid\n",
       "coordinates (i,j) and the number of the element are also printed.\n",
       "The <font color=\"red\">-lon</font> option can be repeated to save processing\n",
       "time.  \n",
       "\n",
       "<pre>\n",
       "<font color=\"brown\">-sh-2.05b$ wgrib2 eta.t00z.awphys18.grb2 -d 1 -s -lon 249 39 -lon 255 33</font>\n",
       "1:0:d=2003090300:MSLET:mean sea level:18 hour fcst:lon=249.035,lat=38.9912,val=101685:\n",
       "lon=254.964,lat=32.9671,val=101668\n",
       "\n",
       "<font color=\"brown\">-sh-3.00$ wgrib2 rtma.t12z.2dvaranl_ndfd.grb2.c2 -d 1 -v -lon -120 30</font>\n",
       "1:0:lon=240.008805,lat=29.988418,i=220037,ix=72,iy=206,val=0\n",
       "</pre>\n",
       "\n",
       "In the latter example, the verbose mode has been set and\n",
       "the inventory includes both the value, location and its \n",
       "grid coordinates; i.e., the 220037th element in the array and \n",
       "its coordinates are (72,206).  Note that these coordinates\n",
       "are after the data has been converted into a WE:SN scan order.\n",
       "Both the i, ix and iy start with a value of one.\n",
       "\n",
       "<h3>Usage</h3>\n",
       "<p>\n",
       "<pre>\n",
       "-lon LONGITUDE LATITUDE\n",
       "      LONGITUDE = 0 .. 360\n",
       "      LATITUDE = -90 .. 90\n",
       "\n",
       "      If the verbosity is 0, the print out the longitude and\n",
       "        latitude of the nearest grid point as well as the grid value.\n",
       "\n",
       "      If the verbosity is 1 or higher, the prints out the longitude and\n",
       "        latitude of the nearest grid point, the index (i) to the data,\n",
       "        the grid coordinates (ix,iy) as well as the grid point value.\n",
       "\n",
       "        i = 1..number of grid points\n",
       "        ix = 1..nx\n",
       "        iy = 1..ny\n",
       "</pre>\n",
       "<h3>Example</h3>\n",
       "<p>\n",
       "<pre>\n",
       "<font color=\"brown\">$ wgrib2 test.grb2 -s -lon -90 20</font>\n",
       "1:0:d=2005090200:HGT:1000 mb:60 hour fcst:lon=270,lat=20,val=121.3\n",
       "2:133907:d=2005090200:HGT:975 mb:60 hour fcst:lon=270,lat=20,val=344.4\n",
       "3:263511:d=2005090200:HGT:950 mb:60 hour fcst:lon=270,lat=20,val=573\n",
       "4:389058:d=2005090200:HGT:925 mb:60 hour fcst:lon=270,lat=20,val=806.5\n",
       "...\n",
       "</pre>\n",
       "<h3><font color=\"red\">Old vs New</font></h3>\n",
       "<p> The original code for the \n",
       "<font color=\"red\">-lon</font> option used the internal geolocation package.\n",
       "This package could compute the lat/lon of the grid points but\n",
       "nothing else.  To find the grid point closest to a specified\n",
       "lat/lon, the distance to every grid point had to be calculated.\n",
       "Later, a short cut was added for lat-lon grids.  Finally the\n",
       "geolocation packages gctpc and Proj4 have inverse functions\n",
       "which allow you to find the closest grid point to specified point\n",
       "for the the supported grids.  For unsupported grids like the\n",
       "Gaussian grid and staggered grids, the original brute force\n",
       "code is used.  You can turn off the new code by the\n",
       "<font color=\"red\">-gctpc 0</font> option.  The old code did\n",
       "not know about grid domains and would find the closest point\n",
       "even if the point were outside of the grid domain.  The\n",
       "gctpc-based closest will return a lat=lon=999 to signal an\n",
       "intial point outside of the domain.\n",
       "\n",
       "\n",
       "<h3><font color=\"red\">Want Speed?</font></h3>\n",
       "<p>  You want extract the values for a 1000 different points.\n",
       "So you call wgrib2 1000 times and complain that wgrib2 is slow.\n",
       "Well decoding a jpeg2000 compressed file 1000 times does take time.\n",
       "It's better to add a 1000 <font color=\"red\">-lon</font> options to the \n",
       "command line and only decode the file once.\n",
       "\n",
       "<p> The number of <font color=\"red\">-lon</font> options on a \n",
       "command line is limited by a compile-time option.  Try\n",
       "running <font color=\"brown\">wgrib2 -config</font>  and look for the line\n",
       "\"maximum number of arguments on command line:\".  The current\n",
       "value is 5000 which allows you 5000 words on the command line.  Each\n",
       "<font color=\"red\">-lon</font> option takes 3 words, so that gives\n",
       "you about 1600 <font color=\"red\">-lon</font> options you can run\n",
       "on one line.  Of course, limitations such as the maximum line\n",
       "length or maximum number of continuations may stop you first.\n",
       "\n",
       "<h3><font color=\"red\">Text, Binary and CSV Output</font></h3>\n",
       "<p> The <font color=\"red\">-lon</font> option writes the grid value\n",
       "to the inventory.  What happens if you want the output written\n",
       "to a file.  You could write the output of \n",
       "<font color=\"red\">-lon</font> to a file by using the\n",
       "<font color=\"red\">-last</font> option.\n",
       "\n",
       "<pre>\n",
       "$ wgrib2 gep19.aec -lon 10 20  -last junk -nl_out junk -for 1:3\n",
       "1:0:lon=10.000000,lat=20.000000,val=12391.6\n",
       "2:70707:lon=10.000000,lat=20.000000,val=219.5\n",
       "3:96843:lon=10.000000,lat=20.000000,val=85\n",
       "$ cat junk\n",
       "lon=10.000000,lat=20.000000,val=12391.6\n",
       "lon=10.000000,lat=20.000000,val=219.5\n",
       "lon=10.000000,lat=20.000000,val=85\n",
       "</pre>\n",
       "<p>\n",
       "You can also use the <font color=\"red\">-lola</font> option which can\n",
       "write a 1x1 grid to binary, text or a grib file.\n",
       "\n",
       "<pre>\n",
       "$ wgrib2 gep19.aec -no_header -lola \"10:1:1\" \"20:1:1\" out.txt text -for 1:3\n",
       "1:0:d=2009060500:HGT:200 mb:180 hour fcst:ENS=+19\n",
       "2:70707:d=2009060500:TMP:200 mb:180 hour fcst:ENS=+19\n",
       "3:96843:d=2009060500:RH:200 mb:180 hour fcst:ENS=+19\n",
       "$ cat out.txt\n",
       "12391.6\n",
       "219.5\n",
       "85\n",
       "</pre>\n",
       "\n",
       "You can make a CSV file by first converting the grib file and running wgrib2 on that \n",
       "grib file.\n",
       "\n",
       "<pre>\n",
       "$ wgrib2 gep19.aec -no_header -lola \"10:1:1\" \"20:1:1\" out.grb grib -for 1:3\n",
       "1:0:d=2009060500:HGT:200 mb:180 hour fcst:ENS=+19\n",
       "2:70707:d=2009060500:TMP:200 mb:180 hour fcst:ENS=+19\n",
       "3:96843:d=2009060500:RH:200 mb:180 hour fcst:ENS=+19\n",
       "$ wgrib2 out.grb -csv out.csv\n",
       "1:0:d=2009060500:HGT:200 mb:180 hour fcst:ENS=+19\n",
       "2:182:d=2009060500:TMP:200 mb:180 hour fcst:ENS=+19\n",
       "3:364:d=2009060500:RH:200 mb:180 hour fcst:ENS=+19\n",
       "$ cat out.csv\n",
       "\"2009-06-05 00:00:00\",\"2009-06-12 12:00:00\",\"HGT\",\"200 mb\",10,20,12391.6\n",
       "\"2009-06-05 00:00:00\",\"2009-06-12 12:00:00\",\"TMP\",\"200 mb\",10,20,219.5\n",
       "\"2009-06-05 00:00:00\",\"2009-06-12 12:00:00\",\"RH\",\"200 mb\",10,20,85\n",
       "</pre>\n",
       "<p>\n",
       "See also: <a href=\"./last.html\">-last</a>,\n",
       "<a href=\"./lola.html\">-lola</a>,\n",
       "<a href=\"./config.html\">-config</a>\n",
       "</p></p></p></p></p></p></p></p></p></td>"
      ]
     },
     "execution_count": 78,
     "metadata": {},
     "output_type": "execute_result"
    }
   ],
   "source": [
    "a[5].findAll(\"tr\")[3].findAll(\"td\")[0]"
   ]
  },
  {
   "cell_type": "code",
   "execution_count": null,
   "metadata": {},
   "outputs": [],
   "source": []
  }
 ],
 "metadata": {
  "kernelspec": {
   "display_name": "wgrib2-docs",
   "language": "python",
   "name": "python3"
  },
  "language_info": {
   "codemirror_mode": {
    "name": "ipython",
    "version": 3
   },
   "file_extension": ".py",
   "mimetype": "text/x-python",
   "name": "python",
   "nbconvert_exporter": "python",
   "pygments_lexer": "ipython3",
   "version": "3.11.0 | packaged by conda-forge | (main, Oct 25 2022, 06:12:32) [MSC v.1929 64 bit (AMD64)]"
  },
  "orig_nbformat": 4,
  "vscode": {
   "interpreter": {
    "hash": "eab4d9e2898e56734bf54442db4935b3497d056b56b2b8edebb89b953907bb40"
   }
  }
 },
 "nbformat": 4,
 "nbformat_minor": 2
}
